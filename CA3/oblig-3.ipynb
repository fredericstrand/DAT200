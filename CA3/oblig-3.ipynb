{
 "cells": [
  {
   "cell_type": "markdown",
   "metadata": {},
   "source": [
    "# Mandatory Assignment 3 DAT200 NMBU 2025"
   ]
  },
  {
   "cell_type": "code",
   "execution_count": 70,
   "metadata": {},
   "outputs": [],
   "source": [
    "# Import necessary libraries\n",
    "import sklearn\n",
    "import numpy as np\n",
    "import pandas as pd\n",
    "import matplotlib.pyplot as plt\n",
    "import seaborn as sns\n",
    "import json\n",
    "\n",
    "from sklearn.model_selection import GridSearchCV, train_test_split\n",
    "from sklearn.preprocessing import StandardScaler\n",
    "from sklearn.ensemble import RandomForestClassifier\n",
    "from sklearn import svm\n",
    "from sklearn.linear_model import LogisticRegression\n",
    "from sklearn.neighbors import KNeighborsClassifier\n",
    "from sklearn.tree import DecisionTreeClassifier\n",
    "from sklearn.metrics import accuracy_score, f1_score"
   ]
  },
  {
   "cell_type": "markdown",
   "metadata": {},
   "source": [
    "## 1. Load the dataset and explore it"
   ]
  },
  {
   "cell_type": "code",
   "execution_count": 71,
   "metadata": {},
   "outputs": [
    {
     "data": {
      "text/html": [
       "<div>\n",
       "<style scoped>\n",
       "    .dataframe tbody tr th:only-of-type {\n",
       "        vertical-align: middle;\n",
       "    }\n",
       "\n",
       "    .dataframe tbody tr th {\n",
       "        vertical-align: top;\n",
       "    }\n",
       "\n",
       "    .dataframe thead th {\n",
       "        text-align: right;\n",
       "    }\n",
       "</style>\n",
       "<table border=\"1\" class=\"dataframe\">\n",
       "  <thead>\n",
       "    <tr style=\"text-align: right;\">\n",
       "      <th></th>\n",
       "      <th>Size</th>\n",
       "      <th>Weight</th>\n",
       "      <th>Sweetness</th>\n",
       "      <th>Softness</th>\n",
       "      <th>HarvestTime</th>\n",
       "      <th>Ripeness</th>\n",
       "      <th>Acidity</th>\n",
       "      <th>Peel Thickness</th>\n",
       "      <th>Banana Density</th>\n",
       "      <th>Quality</th>\n",
       "    </tr>\n",
       "  </thead>\n",
       "  <tbody>\n",
       "    <tr>\n",
       "      <th>0</th>\n",
       "      <td>-1.825734</td>\n",
       "      <td>-0.883754</td>\n",
       "      <td>-2.423530</td>\n",
       "      <td>-1.198136</td>\n",
       "      <td>-4.286523</td>\n",
       "      <td>1.585792</td>\n",
       "      <td>-0.589002</td>\n",
       "      <td>0.164434</td>\n",
       "      <td>65822.758426</td>\n",
       "      <td>0</td>\n",
       "    </tr>\n",
       "    <tr>\n",
       "      <th>1</th>\n",
       "      <td>-0.142286</td>\n",
       "      <td>-0.708374</td>\n",
       "      <td>-2.224219</td>\n",
       "      <td>2.222650</td>\n",
       "      <td>1.896814</td>\n",
       "      <td>-4.284821</td>\n",
       "      <td>1.069387</td>\n",
       "      <td>0.704945</td>\n",
       "      <td>99930.329162</td>\n",
       "      <td>0</td>\n",
       "    </tr>\n",
       "    <tr>\n",
       "      <th>2</th>\n",
       "      <td>-1.957254</td>\n",
       "      <td>-4.293733</td>\n",
       "      <td>-1.073703</td>\n",
       "      <td>-1.405019</td>\n",
       "      <td>-0.729812</td>\n",
       "      <td>3.930497</td>\n",
       "      <td>-0.397840</td>\n",
       "      <td>0.852810</td>\n",
       "      <td>37081.567982</td>\n",
       "      <td>0</td>\n",
       "    </tr>\n",
       "    <tr>\n",
       "      <th>3</th>\n",
       "      <td>-2.168043</td>\n",
       "      <td>3.095472</td>\n",
       "      <td>1.707717</td>\n",
       "      <td>-0.584218</td>\n",
       "      <td>-0.564767</td>\n",
       "      <td>0.014740</td>\n",
       "      <td>-0.103799</td>\n",
       "      <td>0.582909</td>\n",
       "      <td>63931.435551</td>\n",
       "      <td>1</td>\n",
       "    </tr>\n",
       "    <tr>\n",
       "      <th>4</th>\n",
       "      <td>-3.149338</td>\n",
       "      <td>3.058402</td>\n",
       "      <td>2.173671</td>\n",
       "      <td>-0.265609</td>\n",
       "      <td>-2.563220</td>\n",
       "      <td>0.376015</td>\n",
       "      <td>1.434252</td>\n",
       "      <td>0.102162</td>\n",
       "      <td>48711.448819</td>\n",
       "      <td>1</td>\n",
       "    </tr>\n",
       "  </tbody>\n",
       "</table>\n",
       "</div>"
      ],
      "text/plain": [
       "       Size    Weight  Sweetness  Softness  HarvestTime  Ripeness   Acidity  \\\n",
       "0 -1.825734 -0.883754  -2.423530 -1.198136    -4.286523  1.585792 -0.589002   \n",
       "1 -0.142286 -0.708374  -2.224219  2.222650     1.896814 -4.284821  1.069387   \n",
       "2 -1.957254 -4.293733  -1.073703 -1.405019    -0.729812  3.930497 -0.397840   \n",
       "3 -2.168043  3.095472   1.707717 -0.584218    -0.564767  0.014740 -0.103799   \n",
       "4 -3.149338  3.058402   2.173671 -0.265609    -2.563220  0.376015  1.434252   \n",
       "\n",
       "   Peel Thickness  Banana Density  Quality  \n",
       "0        0.164434    65822.758426        0  \n",
       "1        0.704945    99930.329162        0  \n",
       "2        0.852810    37081.567982        0  \n",
       "3        0.582909    63931.435551        1  \n",
       "4        0.102162    48711.448819        1  "
      ]
     },
     "execution_count": 71,
     "metadata": {},
     "output_type": "execute_result"
    }
   ],
   "source": [
    "train_df = pd.read_csv('assets/train.csv')\n",
    "test_df = pd.read_csv('assets/test.csv')\n",
    "train_df.head()"
   ]
  },
  {
   "cell_type": "code",
   "execution_count": 72,
   "metadata": {},
   "outputs": [
    {
     "name": "stdout",
     "output_type": "stream",
     "text": [
      "<class 'pandas.core.frame.DataFrame'>\n",
      "RangeIndex: 2800 entries, 0 to 2799\n",
      "Data columns (total 10 columns):\n",
      " #   Column          Non-Null Count  Dtype  \n",
      "---  ------          --------------  -----  \n",
      " 0   Size            2800 non-null   float64\n",
      " 1   Weight          2800 non-null   float64\n",
      " 2   Sweetness       2800 non-null   float64\n",
      " 3   Softness        2800 non-null   float64\n",
      " 4   HarvestTime     2800 non-null   float64\n",
      " 5   Ripeness        2800 non-null   float64\n",
      " 6   Acidity         2800 non-null   float64\n",
      " 7   Peel Thickness  2800 non-null   float64\n",
      " 8   Banana Density  2800 non-null   float64\n",
      " 9   Quality         2800 non-null   int64  \n",
      "dtypes: float64(9), int64(1)\n",
      "memory usage: 218.9 KB\n",
      "<class 'pandas.core.frame.DataFrame'>\n",
      "RangeIndex: 1200 entries, 0 to 1199\n",
      "Data columns (total 9 columns):\n",
      " #   Column          Non-Null Count  Dtype  \n",
      "---  ------          --------------  -----  \n",
      " 0   Size            1200 non-null   float64\n",
      " 1   Weight          1200 non-null   float64\n",
      " 2   Sweetness       1200 non-null   float64\n",
      " 3   Softness        1200 non-null   float64\n",
      " 4   HarvestTime     1200 non-null   float64\n",
      " 5   Ripeness        1200 non-null   float64\n",
      " 6   Acidity         1200 non-null   float64\n",
      " 7   Peel Thickness  1200 non-null   float64\n",
      " 8   Banana Density  1200 non-null   float64\n",
      "dtypes: float64(9)\n",
      "memory usage: 84.5 KB\n"
     ]
    },
    {
     "data": {
      "text/plain": [
       "(None, None)"
      ]
     },
     "execution_count": 72,
     "metadata": {},
     "output_type": "execute_result"
    }
   ],
   "source": [
    "train_df.info(), test_df.info()"
   ]
  },
  {
   "cell_type": "markdown",
   "metadata": {},
   "source": [
    "## 2. Preprocess the data"
   ]
  },
  {
   "cell_type": "code",
   "execution_count": 73,
   "metadata": {},
   "outputs": [],
   "source": [
    "X_train_df = train_df.drop('Quality', axis=1)\n",
    "y_train_df = train_df['Quality']\n",
    "\n",
    "X_train, X_test, y_train, y_test = train_test_split(X_train_df, y_train_df, test_size=0.2, random_state=42)\n",
    "\n",
    "scalar = StandardScaler()\n",
    "X_train_scaled = scalar.fit_transform(X_train)\n",
    "X_test_scaled = scalar.transform(X_test)"
   ]
  },
  {
   "cell_type": "markdown",
   "metadata": {},
   "source": [
    "## 3. Model selection\n",
    "\n",
    "We will try:\n",
    "* 3.1 RandomForest Classifier\n",
    "* 3.2 Support Vector Classifier\n",
    "* 3.3 Logistic Regression\n",
    "* 3.4 K-Neighbors\n",
    "* 3.5 DecisionTreeClassifier\n",
    "* 3.6 GridSearchCV for best parameters\n",
    "\n",
    "First we'll find the classifier which seems to be the best one, and then use GridSearchCV to find the best parameters for this model.*\n",
    "\n",
    "\n",
    "### 3.1 RandomForest Classifier\n",
    "\n",
    "For the RandomForest we dont need the scaled data"
   ]
  },
  {
   "cell_type": "code",
   "execution_count": 74,
   "metadata": {},
   "outputs": [
    {
     "name": "stdout",
     "output_type": "stream",
     "text": [
      "Accuracy: 0.9678571428571429, F1: 0.9678522207719291\n"
     ]
    }
   ],
   "source": [
    "rf = RandomForestClassifier()\n",
    "rf.fit(X_train, y_train)\n",
    "\n",
    "y_pred = rf.predict(X_test)\n",
    "\n",
    "accuracy = accuracy_score(y_test, y_pred)\n",
    "f1 = f1_score(y_test, y_pred, average='weighted')\n",
    "print(f'Accuracy: {accuracy}, F1: {f1}')"
   ]
  },
  {
   "cell_type": "markdown",
   "metadata": {},
   "source": [
    "### 3.2 Support Vector Classifier"
   ]
  },
  {
   "cell_type": "code",
   "execution_count": 75,
   "metadata": {},
   "outputs": [
    {
     "name": "stdout",
     "output_type": "stream",
     "text": [
      "Accuracy: 0.9696428571428571, F1: 0.9696419856987479\n"
     ]
    }
   ],
   "source": [
    "clf = svm.SVC()\n",
    "clf.fit(X_train_scaled, y_train)\n",
    "\n",
    "y_pred = clf.predict(X_test_scaled)\n",
    "\n",
    "accuracy = accuracy_score(y_test, y_pred)\n",
    "f1 = f1_score(y_test, y_pred, average='weighted')\n",
    "print(f'Accuracy: {accuracy}, F1: {f1}')"
   ]
  },
  {
   "cell_type": "markdown",
   "metadata": {},
   "source": [
    "### 3.3 Logistic Regression"
   ]
  },
  {
   "cell_type": "code",
   "execution_count": 76,
   "metadata": {},
   "outputs": [
    {
     "name": "stdout",
     "output_type": "stream",
     "text": [
      "Accuracy: 0.8946428571428572, F1: 0.8946398327191836\n"
     ]
    }
   ],
   "source": [
    "clf = LogisticRegression()\n",
    "clf.fit(X_train_scaled, y_train)\n",
    "\n",
    "y_pred = clf.predict(X_test_scaled)\n",
    "\n",
    "accuracy = accuracy_score(y_test, y_pred)\n",
    "f1 = f1_score(y_test, y_pred, average='weighted')\n",
    "print(f'Accuracy: {accuracy}, F1: {f1}')"
   ]
  },
  {
   "cell_type": "markdown",
   "metadata": {},
   "source": [
    "### 3.4 K-neighbors Classifier"
   ]
  },
  {
   "cell_type": "code",
   "execution_count": 77,
   "metadata": {},
   "outputs": [
    {
     "name": "stdout",
     "output_type": "stream",
     "text": [
      "Accuracy: 0.9571428571428572, F1: 0.9571444972728282\n"
     ]
    }
   ],
   "source": [
    "clf = KNeighborsClassifier()\n",
    "clf.fit(X_train_scaled, y_train)\n",
    "\n",
    "y_pred = clf.predict(X_test_scaled)\n",
    "\n",
    "accuracy = accuracy_score(y_test, y_pred)\n",
    "f1 = f1_score(y_test, y_pred, average='weighted')\n",
    "print(f'Accuracy: {accuracy}, F1: {f1}')"
   ]
  },
  {
   "cell_type": "markdown",
   "metadata": {},
   "source": [
    "### 3.5 DecisionTree Classifier"
   ]
  },
  {
   "cell_type": "code",
   "execution_count": 78,
   "metadata": {},
   "outputs": [
    {
     "name": "stdout",
     "output_type": "stream",
     "text": [
      "Accuracy: 0.9214285714285714, F1: 0.9214315780266876\n"
     ]
    }
   ],
   "source": [
    "clf = DecisionTreeClassifier()\n",
    "clf.fit(X_train, y_train)\n",
    "\n",
    "y_pred = clf.predict(X_test)\n",
    "\n",
    "accuracy = accuracy_score(y_test, y_pred)\n",
    "f1 = f1_score(y_test, y_pred, average='weighted')\n",
    "print(f'Accuracy: {accuracy}, F1: {f1}')"
   ]
  },
  {
   "cell_type": "markdown",
   "metadata": {},
   "source": [
    "### 3.6 GridSearchCV\n",
    "\n",
    "With experimenting with our different models, RandomForest and SVC seems most promising. Therefore, we'll use GridSearchCV on these models."
   ]
  },
  {
   "cell_type": "code",
   "execution_count": 79,
   "metadata": {},
   "outputs": [
    {
     "name": "stdout",
     "output_type": "stream",
     "text": [
      "Accuracy: 0.9607142857142857, F1: 0.9607037561741395\n"
     ]
    }
   ],
   "source": [
    "# Grid search for Random Forest\n",
    "param_grid = {\n",
    "    'n_estimators': [10, 20, 50, 100, 200],\n",
    "    'max_features': ['sqrt', 'log2'],\n",
    "    'max_depth': [10, 20, 30, 40, 50, None],\n",
    "    'min_samples_split': [2, 4, 6],\n",
    "    'min_samples_leaf': [1, 2, 4],\n",
    "    'bootstrap': [True, False],\n",
    "    'criterion': ['gini', 'entropy']\n",
    "}\n",
    "\n",
    "rf = RandomForestClassifier()\n",
    "model_rf = GridSearchCV(estimator=rf, param_grid=param_grid, cv=5, n_jobs=-1, verbose=0)\n",
    "model_rf.fit(X_train, y_train)\n",
    "\n",
    "# Test the model on the test data\n",
    "y_pred = model_rf.predict(X_test)\n",
    "\n",
    "accuracy = accuracy_score(y_test, y_pred)\n",
    "f1 = f1_score(y_test, y_pred, average='weighted')\n",
    "print(f'Accuracy: {accuracy}, F1: {f1}')\n"
   ]
  },
  {
   "cell_type": "code",
   "execution_count": 80,
   "metadata": {},
   "outputs": [],
   "source": [
    "# Save best parameters to a JSON file\n",
    "with open('best_params_random.json', 'w') as f:\n",
    "    json.dump(grid_search.best_params_, f)"
   ]
  },
  {
   "cell_type": "code",
   "execution_count": 81,
   "metadata": {},
   "outputs": [
    {
     "name": "stdout",
     "output_type": "stream",
     "text": [
      "Accuracy: 0.9696428571428571, F1: 0.9696419856987479\n"
     ]
    }
   ],
   "source": [
    "# Grid search for SVM\n",
    "param_grid = {\n",
    "    'C': [0.1, 1, 10, 100],\n",
    "    'gamma': [1, 0.1, 0.01, 0.001],\n",
    "    'kernel': ['rbf', 'poly', 'sigmoid']\n",
    "}\n",
    "\n",
    "clf = svm.SVC()\n",
    "model_svm = GridSearchCV(estimator=clf, param_grid=param_grid, cv=5, n_jobs=-1, verbose=0)\n",
    "model_svm.fit(X_train_scaled, y_train)\n",
    "\n",
    "# Test the model on the test data\n",
    "y_pred = model_svm.predict(X_test_scaled)\n",
    "\n",
    "accuracy = accuracy_score(y_test, y_pred)\n",
    "f1 = f1_score(y_test, y_pred, average='weighted')\n",
    "print(f'Accuracy: {accuracy}, F1: {f1}')\n",
    "\n",
    "# Save best parameters to a JSON file\n",
    "with open('best_params_svm.json', 'w') as f:\n",
    "    json.dump(grid_search.best_params_, f)"
   ]
  },
  {
   "cell_type": "code",
   "execution_count": 82,
   "metadata": {},
   "outputs": [
    {
     "name": "stdout",
     "output_type": "stream",
     "text": [
      "Accuracy: 0.9696428571428571, F1: 0.9696419856987479\n"
     ]
    }
   ],
   "source": [
    "from sklearn.neighbors import KNeighborsClassifier\n",
    "from sklearn.model_selection import GridSearchCV\n",
    "import json\n",
    "\n",
    "# Define the parameter grid for KNeighborsClassifier\n",
    "param_grid = {\n",
    "    'n_neighbors': [3, 5, 7, 9, 11],\n",
    "    'weights': ['uniform', 'distance'],\n",
    "    'algorithm': ['auto', 'ball_tree', 'kd_tree', 'brute'],\n",
    "    'p': [1, 2]\n",
    "}\n",
    "\n",
    "# Initialize the classifier\n",
    "clf = KNeighborsClassifier()\n",
    "\n",
    "# Setup GridSearchCV using the parameter grid\n",
    "model_knn = GridSearchCV(estimator=clf, param_grid=param_grid, cv=5, n_jobs=-1, verbose=0) \n",
    "model_knn.fit(X_train_scaled, y_train)\n",
    "\n",
    "# Test the model on the test data\n",
    "y_pred = model_knn.predict(X_test_scaled)\n",
    "\n",
    "from sklearn.metrics import accuracy_score, f1_score\n",
    "accuracy = accuracy_score(y_test, y_pred)\n",
    "f1 = f1_score(y_test, y_pred, average='weighted')\n",
    "print(f'Accuracy: {accuracy}, F1: {f1}')\n",
    "\n",
    "# Save best parameters to a JSON file\n",
    "with open('best_params_knn.json', 'w') as f:\n",
    "    json.dump(grid_search.best_params_, f)\n"
   ]
  },
  {
   "cell_type": "code",
   "execution_count": 84,
   "metadata": {},
   "outputs": [
    {
     "name": "stderr",
     "output_type": "stream",
     "text": [
      "/Users/fredericstrand/Documents/sommer-2024-ML-projects/myenv/lib/python3.8/site-packages/sklearn/base.py:458: UserWarning: X has feature names, but SVC was fitted without feature names\n",
      "  warnings.warn(\n",
      "/Users/fredericstrand/Documents/sommer-2024-ML-projects/myenv/lib/python3.8/site-packages/sklearn/base.py:458: UserWarning: X has feature names, but KNeighborsClassifier was fitted without feature names\n",
      "  warnings.warn(\n"
     ]
    }
   ],
   "source": [
    "def save_submission(model, df_test, file_name=\"submission.csv\"):\n",
    "    y_pred = model.predict(df_test)\n",
    "    submission = pd.DataFrame(y_pred, columns=[\"Quality\"])\n",
    "    submission.index.name = \"ID\"\n",
    "    submission.to_csv(file_name)\n",
    "\n",
    "save_submission(model_rf, test_df, file_name=\"submission_rf.csv\")\n",
    "save_submission(model_svm, test_df, file_name=\"submission_svm.csv\")\n",
    "save_submission(model_knn, test_df, file_name=\"submission_knn.csv\")"
   ]
  },
  {
   "cell_type": "code",
   "execution_count": null,
   "metadata": {},
   "outputs": [],
   "source": []
  }
 ],
 "metadata": {
  "kernelspec": {
   "display_name": "Python (myenv)",
   "language": "python",
   "name": "myenv"
  },
  "language_info": {
   "codemirror_mode": {
    "name": "ipython",
    "version": 3
   },
   "file_extension": ".py",
   "mimetype": "text/x-python",
   "name": "python",
   "nbconvert_exporter": "python",
   "pygments_lexer": "ipython3",
   "version": "3.8.18"
  }
 },
 "nbformat": 4,
 "nbformat_minor": 2
}
