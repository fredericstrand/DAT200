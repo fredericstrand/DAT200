{
 "cells": [
  {
   "cell_type": "markdown",
   "metadata": {},
   "source": [
    "# CA1: Dataframe Manipulation with Spotify Data\n",
    "\n",
    "Group 18\n",
    "\n",
    "Names:\n",
    "- Jørgen Asmundvaag\n",
    "- Ivar Eftedal\n",
    "- Christopher Strand\n",
    "- Frederic Strand"
   ]
  },
  {
   "cell_type": "markdown",
   "metadata": {},
   "source": [
    "## Introduction\n",
    "Pandas is an extremely powerful tool to handle large amounts of tabular data. In this compulsory assignment, you will use Pandas to explore one of the TA's personal spotify data in depth. \\\n",
    "\\\n",
    "Additional information:\n",
    "- Feel free to create additional code cells if you feel that one cell per subtask is not sufficient.\n",
    "- Remember, Pandas uses very efficient code to handle large amounts of data. For-loops are not efficient. If you ever have to use a for-loop to loop over the rows in the DataFrame, you have *probably* done something wrong.\n",
    "- Label all graphs and charts if applicable."
   ]
  },
  {
   "cell_type": "markdown",
   "metadata": {},
   "source": [
    "## Task\n",
    "I typically enjoy indie and rock music. I am a big fan of everything from old-fashioned rock and roll like Led Zeppelin and Jimi Hendrix, to newer indie artists like Joji and Lana Del Rey. This is why my spotify wrapped for 2023 came as quite a surprise:"
   ]
  },
  {
   "cell_type": "markdown",
   "metadata": {},
   "source": [
    "<img src=\"spotifywrapped.PNG\" alt=\"Image Description\" width=\"20%\">\n"
   ]
  },
  {
   "cell_type": "markdown",
   "metadata": {},
   "source": [
    "Now, I'm no hater of pop music, but this was unexpected. \n",
    "For this assignment, you will investigate my listening habits, including a deep dive into my Ariana Grande listening habits, and try to find an answer to why she was my top artist; was there a fault in the spotify algorithm? Am I actually secretly an *Arianator*? (yes, I did have to look that up). Or am I just lying to myself about how often I listen to guilty pleasure music?"
   ]
  },
  {
   "cell_type": "markdown",
   "metadata": {},
   "source": [
    "## Part 1: Initial loading and exploration"
   ]
  },
  {
   "cell_type": "markdown",
   "metadata": {},
   "source": [
    "#### 1.0 Import necessary libraries: \n",
    "pandas, numpy, matplotlib.pyplot (other libraries such as seaborn or plotly are also allowed if you want prettier plots). It might also be a good idea to use **os** for task 2.0"
   ]
  },
  {
   "cell_type": "code",
   "execution_count": 30,
   "metadata": {},
   "outputs": [],
   "source": [
    "import matplotlib.pyplot as plt\n",
    "import numpy as np\n",
    "import pandas as pd\n",
    "import os \n",
    "import seaborn as sns"
   ]
  },
  {
   "cell_type": "markdown",
   "metadata": {},
   "source": [
    "#### 1.1 Loading the data\n",
    "Load the dataset in the file `streaming_history_0.csv` into a Pandas DataFrame called `df_spotify_0`."
   ]
  },
  {
   "cell_type": "code",
   "execution_count": 31,
   "metadata": {},
   "outputs": [
    {
     "data": {
      "text/html": [
       "<div>\n",
       "<style scoped>\n",
       "    .dataframe tbody tr th:only-of-type {\n",
       "        vertical-align: middle;\n",
       "    }\n",
       "\n",
       "    .dataframe tbody tr th {\n",
       "        vertical-align: top;\n",
       "    }\n",
       "\n",
       "    .dataframe thead th {\n",
       "        text-align: right;\n",
       "    }\n",
       "</style>\n",
       "<table border=\"1\" class=\"dataframe\">\n",
       "  <thead>\n",
       "    <tr style=\"text-align: right;\">\n",
       "      <th></th>\n",
       "      <th>endTime</th>\n",
       "      <th>artistName</th>\n",
       "      <th>trackName</th>\n",
       "      <th>msPlayed</th>\n",
       "    </tr>\n",
       "  </thead>\n",
       "  <tbody>\n",
       "    <tr>\n",
       "      <th>0</th>\n",
       "      <td>2022-12-03 02:02</td>\n",
       "      <td>Cigarettes After Sex</td>\n",
       "      <td>Truly</td>\n",
       "      <td>30000.0</td>\n",
       "    </tr>\n",
       "    <tr>\n",
       "      <th>1</th>\n",
       "      <td>2022-12-03 02:02</td>\n",
       "      <td>Leonard Cohen</td>\n",
       "      <td>Take This Waltz - Paris Version</td>\n",
       "      <td>8210.0</td>\n",
       "    </tr>\n",
       "    <tr>\n",
       "      <th>2</th>\n",
       "      <td>2022-12-06 21:05</td>\n",
       "      <td>Vlad Holiday</td>\n",
       "      <td>So Damn Into You</td>\n",
       "      <td>37895.0</td>\n",
       "    </tr>\n",
       "    <tr>\n",
       "      <th>3</th>\n",
       "      <td>2022-12-06 21:05</td>\n",
       "      <td>Lorde</td>\n",
       "      <td>Team</td>\n",
       "      <td>8984.0</td>\n",
       "    </tr>\n",
       "    <tr>\n",
       "      <th>4</th>\n",
       "      <td>2022-12-06 21:05</td>\n",
       "      <td>Ariana Grande</td>\n",
       "      <td>Into You</td>\n",
       "      <td>1221.0</td>\n",
       "    </tr>\n",
       "  </tbody>\n",
       "</table>\n",
       "</div>"
      ],
      "text/plain": [
       "            endTime            artistName                        trackName  \\\n",
       "0  2022-12-03 02:02  Cigarettes After Sex                            Truly   \n",
       "1  2022-12-03 02:02         Leonard Cohen  Take This Waltz - Paris Version   \n",
       "2  2022-12-06 21:05          Vlad Holiday                 So Damn Into You   \n",
       "3  2022-12-06 21:05                 Lorde                             Team   \n",
       "4  2022-12-06 21:05         Ariana Grande                         Into You   \n",
       "\n",
       "   msPlayed  \n",
       "0   30000.0  \n",
       "1    8210.0  \n",
       "2   37895.0  \n",
       "3    8984.0  \n",
       "4    1221.0  "
      ]
     },
     "execution_count": 31,
     "metadata": {},
     "output_type": "execute_result"
    }
   ],
   "source": [
    "df_spotify_0 = pd.read_csv(\"spotify_data/streaminghistory0.csv\")\n",
    "df_spotify_0.head()"
   ]
  },
  {
   "cell_type": "markdown",
   "metadata": {},
   "source": [
    "#### 1.2 Help function\n",
    "Use the Python command `help` to help you understand how to use the `pd.DataFrame.head` and `pd.DataFrame.tail` methods."
   ]
  },
  {
   "cell_type": "code",
   "execution_count": 32,
   "metadata": {},
   "outputs": [
    {
     "name": "stdout",
     "output_type": "stream",
     "text": [
      "Help on function head in module pandas.core.generic:\n",
      "\n",
      "head(self: 'NDFrameT', n: 'int' = 5) -> 'NDFrameT'\n",
      "    Return the first `n` rows.\n",
      "    \n",
      "    This function returns the first `n` rows for the object based\n",
      "    on position. It is useful for quickly testing if your object\n",
      "    has the right type of data in it.\n",
      "    \n",
      "    For negative values of `n`, this function returns all rows except\n",
      "    the last `|n|` rows, equivalent to ``df[:n]``.\n",
      "    \n",
      "    If n is larger than the number of rows, this function returns all rows.\n",
      "    \n",
      "    Parameters\n",
      "    ----------\n",
      "    n : int, default 5\n",
      "        Number of rows to select.\n",
      "    \n",
      "    Returns\n",
      "    -------\n",
      "    same type as caller\n",
      "        The first `n` rows of the caller object.\n",
      "    \n",
      "    See Also\n",
      "    --------\n",
      "    DataFrame.tail: Returns the last `n` rows.\n",
      "    \n",
      "    Examples\n",
      "    --------\n",
      "    >>> df = pd.DataFrame({'animal': ['alligator', 'bee', 'falcon', 'lion',\n",
      "    ...                    'monkey', 'parrot', 'shark', 'whale', 'zebra']})\n",
      "    >>> df\n",
      "          animal\n",
      "    0  alligator\n",
      "    1        bee\n",
      "    2     falcon\n",
      "    3       lion\n",
      "    4     monkey\n",
      "    5     parrot\n",
      "    6      shark\n",
      "    7      whale\n",
      "    8      zebra\n",
      "    \n",
      "    Viewing the first 5 lines\n",
      "    \n",
      "    >>> df.head()\n",
      "          animal\n",
      "    0  alligator\n",
      "    1        bee\n",
      "    2     falcon\n",
      "    3       lion\n",
      "    4     monkey\n",
      "    \n",
      "    Viewing the first `n` lines (three in this case)\n",
      "    \n",
      "    >>> df.head(3)\n",
      "          animal\n",
      "    0  alligator\n",
      "    1        bee\n",
      "    2     falcon\n",
      "    \n",
      "    For negative values of `n`\n",
      "    \n",
      "    >>> df.head(-3)\n",
      "          animal\n",
      "    0  alligator\n",
      "    1        bee\n",
      "    2     falcon\n",
      "    3       lion\n",
      "    4     monkey\n",
      "    5     parrot\n",
      "\n",
      "Help on function tail in module pandas.core.generic:\n",
      "\n",
      "tail(self: 'NDFrameT', n: 'int' = 5) -> 'NDFrameT'\n",
      "    Return the last `n` rows.\n",
      "    \n",
      "    This function returns last `n` rows from the object based on\n",
      "    position. It is useful for quickly verifying data, for example,\n",
      "    after sorting or appending rows.\n",
      "    \n",
      "    For negative values of `n`, this function returns all rows except\n",
      "    the first `|n|` rows, equivalent to ``df[|n|:]``.\n",
      "    \n",
      "    If n is larger than the number of rows, this function returns all rows.\n",
      "    \n",
      "    Parameters\n",
      "    ----------\n",
      "    n : int, default 5\n",
      "        Number of rows to select.\n",
      "    \n",
      "    Returns\n",
      "    -------\n",
      "    type of caller\n",
      "        The last `n` rows of the caller object.\n",
      "    \n",
      "    See Also\n",
      "    --------\n",
      "    DataFrame.head : The first `n` rows of the caller object.\n",
      "    \n",
      "    Examples\n",
      "    --------\n",
      "    >>> df = pd.DataFrame({'animal': ['alligator', 'bee', 'falcon', 'lion',\n",
      "    ...                    'monkey', 'parrot', 'shark', 'whale', 'zebra']})\n",
      "    >>> df\n",
      "          animal\n",
      "    0  alligator\n",
      "    1        bee\n",
      "    2     falcon\n",
      "    3       lion\n",
      "    4     monkey\n",
      "    5     parrot\n",
      "    6      shark\n",
      "    7      whale\n",
      "    8      zebra\n",
      "    \n",
      "    Viewing the last 5 lines\n",
      "    \n",
      "    >>> df.tail()\n",
      "       animal\n",
      "    4  monkey\n",
      "    5  parrot\n",
      "    6   shark\n",
      "    7   whale\n",
      "    8   zebra\n",
      "    \n",
      "    Viewing the last `n` lines (three in this case)\n",
      "    \n",
      "    >>> df.tail(3)\n",
      "      animal\n",
      "    6  shark\n",
      "    7  whale\n",
      "    8  zebra\n",
      "    \n",
      "    For negative values of `n`\n",
      "    \n",
      "    >>> df.tail(-3)\n",
      "       animal\n",
      "    3    lion\n",
      "    4  monkey\n",
      "    5  parrot\n",
      "    6   shark\n",
      "    7   whale\n",
      "    8   zebra\n",
      "\n"
     ]
    },
    {
     "data": {
      "text/plain": [
       "(None, None)"
      ]
     },
     "execution_count": 32,
     "metadata": {},
     "output_type": "execute_result"
    }
   ],
   "source": [
    "help(pd.DataFrame.head), help(pd.DataFrame.tail)"
   ]
  },
  {
   "cell_type": "markdown",
   "metadata": {},
   "source": [
    "#### 1.3 Getting an overview\n",
    "Print the first `five` and last `ten` rows of the dataframe. Have a quick look at which columns are in the dataset. "
   ]
  },
  {
   "cell_type": "code",
   "execution_count": 33,
   "metadata": {},
   "outputs": [
    {
     "data": {
      "text/html": [
       "<div>\n",
       "<style scoped>\n",
       "    .dataframe tbody tr th:only-of-type {\n",
       "        vertical-align: middle;\n",
       "    }\n",
       "\n",
       "    .dataframe tbody tr th {\n",
       "        vertical-align: top;\n",
       "    }\n",
       "\n",
       "    .dataframe thead th {\n",
       "        text-align: right;\n",
       "    }\n",
       "</style>\n",
       "<table border=\"1\" class=\"dataframe\">\n",
       "  <thead>\n",
       "    <tr style=\"text-align: right;\">\n",
       "      <th></th>\n",
       "      <th>endTime</th>\n",
       "      <th>artistName</th>\n",
       "      <th>trackName</th>\n",
       "      <th>msPlayed</th>\n",
       "    </tr>\n",
       "  </thead>\n",
       "  <tbody>\n",
       "    <tr>\n",
       "      <th>0</th>\n",
       "      <td>2022-12-03 02:02</td>\n",
       "      <td>Cigarettes After Sex</td>\n",
       "      <td>Truly</td>\n",
       "      <td>30000.0</td>\n",
       "    </tr>\n",
       "    <tr>\n",
       "      <th>1</th>\n",
       "      <td>2022-12-03 02:02</td>\n",
       "      <td>Leonard Cohen</td>\n",
       "      <td>Take This Waltz - Paris Version</td>\n",
       "      <td>8210.0</td>\n",
       "    </tr>\n",
       "    <tr>\n",
       "      <th>2</th>\n",
       "      <td>2022-12-06 21:05</td>\n",
       "      <td>Vlad Holiday</td>\n",
       "      <td>So Damn Into You</td>\n",
       "      <td>37895.0</td>\n",
       "    </tr>\n",
       "    <tr>\n",
       "      <th>3</th>\n",
       "      <td>2022-12-06 21:05</td>\n",
       "      <td>Lorde</td>\n",
       "      <td>Team</td>\n",
       "      <td>8984.0</td>\n",
       "    </tr>\n",
       "    <tr>\n",
       "      <th>4</th>\n",
       "      <td>2022-12-06 21:05</td>\n",
       "      <td>Ariana Grande</td>\n",
       "      <td>Into You</td>\n",
       "      <td>1221.0</td>\n",
       "    </tr>\n",
       "  </tbody>\n",
       "</table>\n",
       "</div>"
      ],
      "text/plain": [
       "            endTime            artistName                        trackName  \\\n",
       "0  2022-12-03 02:02  Cigarettes After Sex                            Truly   \n",
       "1  2022-12-03 02:02         Leonard Cohen  Take This Waltz - Paris Version   \n",
       "2  2022-12-06 21:05          Vlad Holiday                 So Damn Into You   \n",
       "3  2022-12-06 21:05                 Lorde                             Team   \n",
       "4  2022-12-06 21:05         Ariana Grande                         Into You   \n",
       "\n",
       "   msPlayed  \n",
       "0   30000.0  \n",
       "1    8210.0  \n",
       "2   37895.0  \n",
       "3    8984.0  \n",
       "4    1221.0  "
      ]
     },
     "execution_count": 33,
     "metadata": {},
     "output_type": "execute_result"
    }
   ],
   "source": [
    "df_spotify_0.head(5)"
   ]
  },
  {
   "cell_type": "code",
   "execution_count": 34,
   "metadata": {},
   "outputs": [
    {
     "data": {
      "text/html": [
       "<div>\n",
       "<style scoped>\n",
       "    .dataframe tbody tr th:only-of-type {\n",
       "        vertical-align: middle;\n",
       "    }\n",
       "\n",
       "    .dataframe tbody tr th {\n",
       "        vertical-align: top;\n",
       "    }\n",
       "\n",
       "    .dataframe thead th {\n",
       "        text-align: right;\n",
       "    }\n",
       "</style>\n",
       "<table border=\"1\" class=\"dataframe\">\n",
       "  <thead>\n",
       "    <tr style=\"text-align: right;\">\n",
       "      <th></th>\n",
       "      <th>endTime</th>\n",
       "      <th>artistName</th>\n",
       "      <th>trackName</th>\n",
       "      <th>msPlayed</th>\n",
       "    </tr>\n",
       "  </thead>\n",
       "  <tbody>\n",
       "    <tr>\n",
       "      <th>11949</th>\n",
       "      <td>2023-01-02 20:58</td>\n",
       "      <td>Ariana Grande</td>\n",
       "      <td>six thirty</td>\n",
       "      <td>1699.0</td>\n",
       "    </tr>\n",
       "    <tr>\n",
       "      <th>11950</th>\n",
       "      <td>2023-01-02 20:58</td>\n",
       "      <td>Leonard Cohen</td>\n",
       "      <td>Thanks for the Dance</td>\n",
       "      <td>19483.0</td>\n",
       "    </tr>\n",
       "    <tr>\n",
       "      <th>11951</th>\n",
       "      <td>2023-01-02 20:59</td>\n",
       "      <td>Des Rocs</td>\n",
       "      <td>Used to the Darkness</td>\n",
       "      <td>185.0</td>\n",
       "    </tr>\n",
       "    <tr>\n",
       "      <th>11952</th>\n",
       "      <td>2023-01-02 20:59</td>\n",
       "      <td>Caroline Polachek</td>\n",
       "      <td>Hit Me Where It Hurts</td>\n",
       "      <td>603.0</td>\n",
       "    </tr>\n",
       "    <tr>\n",
       "      <th>11953</th>\n",
       "      <td>2023-01-02 20:59</td>\n",
       "      <td>Caroline Polachek</td>\n",
       "      <td>Hit Me Where It Hurts</td>\n",
       "      <td>208.0</td>\n",
       "    </tr>\n",
       "    <tr>\n",
       "      <th>11954</th>\n",
       "      <td>2023-01-02 20:59</td>\n",
       "      <td>Kaizers Orchestra</td>\n",
       "      <td>Resistansen</td>\n",
       "      <td>208.0</td>\n",
       "    </tr>\n",
       "    <tr>\n",
       "      <th>11955</th>\n",
       "      <td>2023-01-02 20:59</td>\n",
       "      <td>Mr.Kitty</td>\n",
       "      <td>After Dark</td>\n",
       "      <td>101447.0</td>\n",
       "    </tr>\n",
       "    <tr>\n",
       "      <th>11956</th>\n",
       "      <td>2023-01-02 20:59</td>\n",
       "      <td>daddy's girl</td>\n",
       "      <td>after dark x sweater weather</td>\n",
       "      <td>301.0</td>\n",
       "    </tr>\n",
       "    <tr>\n",
       "      <th>11957</th>\n",
       "      <td>2023-01-02 20:59</td>\n",
       "      <td>daddy's girl</td>\n",
       "      <td>after dark x sweater weather</td>\n",
       "      <td>208.0</td>\n",
       "    </tr>\n",
       "    <tr>\n",
       "      <th>11958</th>\n",
       "      <td>2023-01-02 20:59</td>\n",
       "      <td>daddy's girl</td>\n",
       "      <td>after dark x sweater weather</td>\n",
       "      <td>789.0</td>\n",
       "    </tr>\n",
       "  </tbody>\n",
       "</table>\n",
       "</div>"
      ],
      "text/plain": [
       "                endTime         artistName                     trackName  \\\n",
       "11949  2023-01-02 20:58      Ariana Grande                    six thirty   \n",
       "11950  2023-01-02 20:58      Leonard Cohen          Thanks for the Dance   \n",
       "11951  2023-01-02 20:59           Des Rocs          Used to the Darkness   \n",
       "11952  2023-01-02 20:59  Caroline Polachek         Hit Me Where It Hurts   \n",
       "11953  2023-01-02 20:59  Caroline Polachek         Hit Me Where It Hurts   \n",
       "11954  2023-01-02 20:59  Kaizers Orchestra                   Resistansen   \n",
       "11955  2023-01-02 20:59           Mr.Kitty                    After Dark   \n",
       "11956  2023-01-02 20:59       daddy's girl  after dark x sweater weather   \n",
       "11957  2023-01-02 20:59       daddy's girl  after dark x sweater weather   \n",
       "11958  2023-01-02 20:59       daddy's girl  after dark x sweater weather   \n",
       "\n",
       "       msPlayed  \n",
       "11949    1699.0  \n",
       "11950   19483.0  \n",
       "11951     185.0  \n",
       "11952     603.0  \n",
       "11953     208.0  \n",
       "11954     208.0  \n",
       "11955  101447.0  \n",
       "11956     301.0  \n",
       "11957     208.0  \n",
       "11958     789.0  "
      ]
     },
     "execution_count": 34,
     "metadata": {},
     "output_type": "execute_result"
    }
   ],
   "source": [
    "df_spotify_0.tail(10)"
   ]
  },
  {
   "cell_type": "markdown",
   "metadata": {},
   "source": [
    "#### 1.4 Formatting correctly\n",
    "When working with Pandas, it's very useful to have columns which contains dates in a specific format called *datetime*. This allows for efficient manipulation and analysis of time-series data, such as sorting, filtering by date or time, and resampling for different time periods. Figure out which column(s) would be appropriate to convert to datetime, if any, and if so, perform the conversion to the correct format."
   ]
  },
  {
   "cell_type": "code",
   "execution_count": 35,
   "metadata": {},
   "outputs": [
    {
     "name": "stdout",
     "output_type": "stream",
     "text": [
      "<class 'pandas.core.frame.DataFrame'>\n",
      "RangeIndex: 11959 entries, 0 to 11958\n",
      "Data columns (total 4 columns):\n",
      " #   Column      Non-Null Count  Dtype  \n",
      "---  ------      --------------  -----  \n",
      " 0   endTime     11959 non-null  object \n",
      " 1   artistName  11959 non-null  object \n",
      " 2   trackName   11959 non-null  object \n",
      " 3   msPlayed    11959 non-null  float64\n",
      "dtypes: float64(1), object(3)\n",
      "memory usage: 373.8+ KB\n"
     ]
    }
   ],
   "source": [
    "df_spotify_0.info()"
   ]
  },
  {
   "cell_type": "code",
   "execution_count": 36,
   "metadata": {},
   "outputs": [
    {
     "data": {
      "text/html": [
       "<div>\n",
       "<style scoped>\n",
       "    .dataframe tbody tr th:only-of-type {\n",
       "        vertical-align: middle;\n",
       "    }\n",
       "\n",
       "    .dataframe tbody tr th {\n",
       "        vertical-align: top;\n",
       "    }\n",
       "\n",
       "    .dataframe thead th {\n",
       "        text-align: right;\n",
       "    }\n",
       "</style>\n",
       "<table border=\"1\" class=\"dataframe\">\n",
       "  <thead>\n",
       "    <tr style=\"text-align: right;\">\n",
       "      <th></th>\n",
       "      <th>endTime</th>\n",
       "      <th>artistName</th>\n",
       "      <th>trackName</th>\n",
       "      <th>msPlayed</th>\n",
       "    </tr>\n",
       "  </thead>\n",
       "  <tbody>\n",
       "    <tr>\n",
       "      <th>0</th>\n",
       "      <td>2022-12-03 02:02:00</td>\n",
       "      <td>Cigarettes After Sex</td>\n",
       "      <td>Truly</td>\n",
       "      <td>30000.0</td>\n",
       "    </tr>\n",
       "    <tr>\n",
       "      <th>1</th>\n",
       "      <td>2022-12-03 02:02:00</td>\n",
       "      <td>Leonard Cohen</td>\n",
       "      <td>Take This Waltz - Paris Version</td>\n",
       "      <td>8210.0</td>\n",
       "    </tr>\n",
       "    <tr>\n",
       "      <th>2</th>\n",
       "      <td>2022-12-06 21:05:00</td>\n",
       "      <td>Vlad Holiday</td>\n",
       "      <td>So Damn Into You</td>\n",
       "      <td>37895.0</td>\n",
       "    </tr>\n",
       "    <tr>\n",
       "      <th>3</th>\n",
       "      <td>2022-12-06 21:05:00</td>\n",
       "      <td>Lorde</td>\n",
       "      <td>Team</td>\n",
       "      <td>8984.0</td>\n",
       "    </tr>\n",
       "    <tr>\n",
       "      <th>4</th>\n",
       "      <td>2022-12-06 21:05:00</td>\n",
       "      <td>Ariana Grande</td>\n",
       "      <td>Into You</td>\n",
       "      <td>1221.0</td>\n",
       "    </tr>\n",
       "  </tbody>\n",
       "</table>\n",
       "</div>"
      ],
      "text/plain": [
       "              endTime            artistName                        trackName  \\\n",
       "0 2022-12-03 02:02:00  Cigarettes After Sex                            Truly   \n",
       "1 2022-12-03 02:02:00         Leonard Cohen  Take This Waltz - Paris Version   \n",
       "2 2022-12-06 21:05:00          Vlad Holiday                 So Damn Into You   \n",
       "3 2022-12-06 21:05:00                 Lorde                             Team   \n",
       "4 2022-12-06 21:05:00         Ariana Grande                         Into You   \n",
       "\n",
       "   msPlayed  \n",
       "0   30000.0  \n",
       "1    8210.0  \n",
       "2   37895.0  \n",
       "3    8984.0  \n",
       "4    1221.0  "
      ]
     },
     "execution_count": 36,
     "metadata": {},
     "output_type": "execute_result"
    }
   ],
   "source": [
    "df_spotify_0['endTime'] = pd.to_datetime(df_spotify_0['endTime'])\n",
    "df_spotify_0.head()"
   ]
  },
  {
   "cell_type": "markdown",
   "metadata": {},
   "source": [
    "#### 1.5 Unique artists\n",
    "Find how many unique artists are in the dataset.\n"
   ]
  },
  {
   "cell_type": "code",
   "execution_count": 37,
   "metadata": {},
   "outputs": [
    {
     "data": {
      "text/plain": [
       "495"
      ]
     },
     "execution_count": 37,
     "metadata": {},
     "output_type": "execute_result"
    }
   ],
   "source": [
    "len(df_spotify_0['artistName'].unique())"
   ]
  },
  {
   "cell_type": "markdown",
   "metadata": {},
   "source": [
    "#### 1.6 Unique songs\n",
    "Find how many unique songs are in the dataset."
   ]
  },
  {
   "cell_type": "code",
   "execution_count": 38,
   "metadata": {},
   "outputs": [
    {
     "data": {
      "text/plain": [
       "1308"
      ]
     },
     "execution_count": 38,
     "metadata": {},
     "output_type": "execute_result"
    }
   ],
   "source": [
    "len(df_spotify_0['trackName'].unique())"
   ]
  },
  {
   "cell_type": "markdown",
   "metadata": {},
   "source": [
    "### Part 1: Questions\n",
    "Q1: Which columns are in the dataset?\n",
    "\n",
    "endTime,artistName,trackName,msPlayed\n",
    "\n",
    "Q2: What timeframe does the dataset span?\n",
    "\n",
    "03.12.2022 -> 02.01.2023\n",
    "\n",
    "Q3: How many unique artists are in the dataset?\n",
    "\n",
    "495\n",
    "\n",
    "Q4: How many unique songs are in the dataset?\n",
    "\n",
    "1308"
   ]
  },
  {
   "cell_type": "markdown",
   "metadata": {},
   "source": [
    "## Part 2: Working with all the data"
   ]
  },
  {
   "cell_type": "markdown",
   "metadata": {},
   "source": [
    "#### 2.0 Importing all the dataframes\n",
    "In Task 1, you only worked with about a month worth of data. Now, you will work with over a year worth. \n",
    "\n",
    "In the *spotify_data* folder, there is more than just one listening record. Load each of the 14 listening records into a dataframe (1 dataframe per listening record), and concatenate them together into one large dataframe named `df`."
   ]
  },
  {
   "cell_type": "code",
   "execution_count": 39,
   "metadata": {},
   "outputs": [
    {
     "data": {
      "text/html": [
       "<div>\n",
       "<style scoped>\n",
       "    .dataframe tbody tr th:only-of-type {\n",
       "        vertical-align: middle;\n",
       "    }\n",
       "\n",
       "    .dataframe tbody tr th {\n",
       "        vertical-align: top;\n",
       "    }\n",
       "\n",
       "    .dataframe thead th {\n",
       "        text-align: right;\n",
       "    }\n",
       "</style>\n",
       "<table border=\"1\" class=\"dataframe\">\n",
       "  <thead>\n",
       "    <tr style=\"text-align: right;\">\n",
       "      <th></th>\n",
       "      <th>endTime</th>\n",
       "      <th>artistName</th>\n",
       "      <th>trackName</th>\n",
       "      <th>msPlayed</th>\n",
       "    </tr>\n",
       "  </thead>\n",
       "  <tbody>\n",
       "    <tr>\n",
       "      <th>0</th>\n",
       "      <td>2023-07-05 16:31</td>\n",
       "      <td>Rush</td>\n",
       "      <td>Tom Sawyer</td>\n",
       "      <td>2066.0</td>\n",
       "    </tr>\n",
       "    <tr>\n",
       "      <th>1</th>\n",
       "      <td>2023-07-05 16:31</td>\n",
       "      <td>Tom Petty</td>\n",
       "      <td>Free Fallin'</td>\n",
       "      <td>8195.0</td>\n",
       "    </tr>\n",
       "    <tr>\n",
       "      <th>2</th>\n",
       "      <td>2023-07-05 16:31</td>\n",
       "      <td>2Pac</td>\n",
       "      <td>Young Niggaz</td>\n",
       "      <td>19806.0</td>\n",
       "    </tr>\n",
       "    <tr>\n",
       "      <th>3</th>\n",
       "      <td>2023-07-05 16:31</td>\n",
       "      <td>2Pac</td>\n",
       "      <td>Young Niggaz</td>\n",
       "      <td>882.0</td>\n",
       "    </tr>\n",
       "    <tr>\n",
       "      <th>4</th>\n",
       "      <td>2023-07-05 16:31</td>\n",
       "      <td>Sleeping With Sirens</td>\n",
       "      <td>Better Off Dead</td>\n",
       "      <td>4481.0</td>\n",
       "    </tr>\n",
       "  </tbody>\n",
       "</table>\n",
       "</div>"
      ],
      "text/plain": [
       "            endTime            artistName        trackName  msPlayed\n",
       "0  2023-07-05 16:31                  Rush       Tom Sawyer    2066.0\n",
       "1  2023-07-05 16:31             Tom Petty     Free Fallin'    8195.0\n",
       "2  2023-07-05 16:31                  2Pac     Young Niggaz   19806.0\n",
       "3  2023-07-05 16:31                  2Pac     Young Niggaz     882.0\n",
       "4  2023-07-05 16:31  Sleeping With Sirens  Better Off Dead    4481.0"
      ]
     },
     "execution_count": 39,
     "metadata": {},
     "output_type": "execute_result"
    }
   ],
   "source": [
    "data_folder = \"spotify_data\"\n",
    "\n",
    "file_list = [os.path.join(data_folder, file) for file in os.listdir(data_folder) if file.endswith(\".csv\")]\n",
    "df_list = [pd.read_csv(file) for file in file_list]\n",
    "df = pd.concat(df_list, ignore_index=True)\n",
    "\n",
    "df.head()"
   ]
  },
  {
   "cell_type": "markdown",
   "metadata": {},
   "source": [
    "#### 2.1 Sorting by time\n",
    "Datasets often aren't perfect. One example of an issue that could occur is that the time-based data might not be in chronological order. If this were to happen, the rows in your dataframe could be in the wrong order. To ensure this isn't an issue in your dataframe, you should sort the dataframe in chronological order, from oldest to newest."
   ]
  },
  {
   "cell_type": "code",
   "execution_count": 40,
   "metadata": {},
   "outputs": [
    {
     "data": {
      "text/html": [
       "<div>\n",
       "<style scoped>\n",
       "    .dataframe tbody tr th:only-of-type {\n",
       "        vertical-align: middle;\n",
       "    }\n",
       "\n",
       "    .dataframe tbody tr th {\n",
       "        vertical-align: top;\n",
       "    }\n",
       "\n",
       "    .dataframe thead th {\n",
       "        text-align: right;\n",
       "    }\n",
       "</style>\n",
       "<table border=\"1\" class=\"dataframe\">\n",
       "  <thead>\n",
       "    <tr style=\"text-align: right;\">\n",
       "      <th></th>\n",
       "      <th>endTime</th>\n",
       "      <th>artistName</th>\n",
       "      <th>trackName</th>\n",
       "      <th>msPlayed</th>\n",
       "    </tr>\n",
       "  </thead>\n",
       "  <tbody>\n",
       "    <tr>\n",
       "      <th>71767</th>\n",
       "      <td>2022-12-03 02:02</td>\n",
       "      <td>Cigarettes After Sex</td>\n",
       "      <td>Truly</td>\n",
       "      <td>30000.0</td>\n",
       "    </tr>\n",
       "    <tr>\n",
       "      <th>71768</th>\n",
       "      <td>2022-12-03 02:02</td>\n",
       "      <td>Leonard Cohen</td>\n",
       "      <td>Take This Waltz - Paris Version</td>\n",
       "      <td>8210.0</td>\n",
       "    </tr>\n",
       "    <tr>\n",
       "      <th>71770</th>\n",
       "      <td>2022-12-06 21:05</td>\n",
       "      <td>Lorde</td>\n",
       "      <td>Team</td>\n",
       "      <td>8984.0</td>\n",
       "    </tr>\n",
       "    <tr>\n",
       "      <th>71769</th>\n",
       "      <td>2022-12-06 21:05</td>\n",
       "      <td>Vlad Holiday</td>\n",
       "      <td>So Damn Into You</td>\n",
       "      <td>37895.0</td>\n",
       "    </tr>\n",
       "    <tr>\n",
       "      <th>71771</th>\n",
       "      <td>2022-12-06 21:05</td>\n",
       "      <td>Ariana Grande</td>\n",
       "      <td>Into You</td>\n",
       "      <td>1221.0</td>\n",
       "    </tr>\n",
       "  </tbody>\n",
       "</table>\n",
       "</div>"
      ],
      "text/plain": [
       "                endTime            artistName  \\\n",
       "71767  2022-12-03 02:02  Cigarettes After Sex   \n",
       "71768  2022-12-03 02:02         Leonard Cohen   \n",
       "71770  2022-12-06 21:05                 Lorde   \n",
       "71769  2022-12-06 21:05          Vlad Holiday   \n",
       "71771  2022-12-06 21:05         Ariana Grande   \n",
       "\n",
       "                             trackName  msPlayed  \n",
       "71767                            Truly   30000.0  \n",
       "71768  Take This Waltz - Paris Version    8210.0  \n",
       "71770                             Team    8984.0  \n",
       "71769                 So Damn Into You   37895.0  \n",
       "71771                         Into You    1221.0  "
      ]
     },
     "execution_count": 40,
     "metadata": {},
     "output_type": "execute_result"
    }
   ],
   "source": [
    "df = df.sort_values(by = \"endTime\", ascending=True)\n",
    "df.head() "
   ]
  },
  {
   "cell_type": "markdown",
   "metadata": {},
   "source": [
    "#### 2.2 Setting a timeframe\n",
    "For this investigation, we are only interested in investigating listening patterns from **2023**. Remove any data not from **2023** from the DataFrame."
   ]
  },
  {
   "cell_type": "code",
   "execution_count": 41,
   "metadata": {},
   "outputs": [
    {
     "data": {
      "text/html": [
       "<div>\n",
       "<style scoped>\n",
       "    .dataframe tbody tr th:only-of-type {\n",
       "        vertical-align: middle;\n",
       "    }\n",
       "\n",
       "    .dataframe tbody tr th {\n",
       "        vertical-align: top;\n",
       "    }\n",
       "\n",
       "    .dataframe thead th {\n",
       "        text-align: right;\n",
       "    }\n",
       "</style>\n",
       "<table border=\"1\" class=\"dataframe\">\n",
       "  <thead>\n",
       "    <tr style=\"text-align: right;\">\n",
       "      <th></th>\n",
       "      <th>endTime</th>\n",
       "      <th>artistName</th>\n",
       "      <th>trackName</th>\n",
       "      <th>msPlayed</th>\n",
       "    </tr>\n",
       "  </thead>\n",
       "  <tbody>\n",
       "    <tr>\n",
       "      <th>82655</th>\n",
       "      <td>2023-01-01 01:17:00</td>\n",
       "      <td>Ariana Grande</td>\n",
       "      <td>Right There (feat. Big Sean)</td>\n",
       "      <td>22929.0</td>\n",
       "    </tr>\n",
       "    <tr>\n",
       "      <th>82654</th>\n",
       "      <td>2023-01-01 01:17:00</td>\n",
       "      <td>Ariana Grande</td>\n",
       "      <td>Santa Baby</td>\n",
       "      <td>12293.0</td>\n",
       "    </tr>\n",
       "    <tr>\n",
       "      <th>82653</th>\n",
       "      <td>2023-01-01 01:17:00</td>\n",
       "      <td>Kelly Clarkson</td>\n",
       "      <td>Santa, Can’t You Hear Me</td>\n",
       "      <td>325.0</td>\n",
       "    </tr>\n",
       "    <tr>\n",
       "      <th>82650</th>\n",
       "      <td>2023-01-01 01:17:00</td>\n",
       "      <td>Ariana Grande</td>\n",
       "      <td>positions</td>\n",
       "      <td>417.0</td>\n",
       "    </tr>\n",
       "    <tr>\n",
       "      <th>82651</th>\n",
       "      <td>2023-01-01 01:17:00</td>\n",
       "      <td>Peach Pit</td>\n",
       "      <td>Being so Normal</td>\n",
       "      <td>2205.0</td>\n",
       "    </tr>\n",
       "  </tbody>\n",
       "</table>\n",
       "</div>"
      ],
      "text/plain": [
       "                  endTime      artistName                     trackName  \\\n",
       "82655 2023-01-01 01:17:00   Ariana Grande  Right There (feat. Big Sean)   \n",
       "82654 2023-01-01 01:17:00   Ariana Grande                    Santa Baby   \n",
       "82653 2023-01-01 01:17:00  Kelly Clarkson      Santa, Can’t You Hear Me   \n",
       "82650 2023-01-01 01:17:00   Ariana Grande                     positions   \n",
       "82651 2023-01-01 01:17:00       Peach Pit               Being so Normal   \n",
       "\n",
       "       msPlayed  \n",
       "82655   22929.0  \n",
       "82654   12293.0  \n",
       "82653     325.0  \n",
       "82650     417.0  \n",
       "82651    2205.0  "
      ]
     },
     "execution_count": 41,
     "metadata": {},
     "output_type": "execute_result"
    }
   ],
   "source": [
    "df[\"endTime\"] = pd.to_datetime(df[\"endTime\"])\n",
    "\n",
    "df_2023 = df[df[\"endTime\"].dt.year == 2023]\n",
    "df_2023.head()"
   ]
  },
  {
   "cell_type": "markdown",
   "metadata": {},
   "source": [
    "#### 2.3 Deleting rows\n",
    "Often in Data Science, you will encounter when a row entry has the value *NaN*, indicating missing data. These entries can skew your analysis, leading to inaccurate conclusions. For this task, identify and remove any rows in your DataFrame that contain NaN values. \\\n",
    "Later in the course, you might encounter other techniques of dealing with missing data, typically reffered to as *data imputation*. Here, though, you are just supposed to delete the entire rows with missing data."
   ]
  },
  {
   "cell_type": "code",
   "execution_count": 42,
   "metadata": {},
   "outputs": [
    {
     "name": "stdout",
     "output_type": "stream",
     "text": [
      "Before: 19\n",
      "After: 0\n"
     ]
    }
   ],
   "source": [
    "print(f\"Before: {df.isna().sum().sum()}\")\n",
    "df = df.dropna(how = 'any', axis=0)\n",
    "print(f\"After: {df.isna().sum().sum()}\")"
   ]
  },
  {
   "cell_type": "markdown",
   "metadata": {},
   "source": [
    "#### 2.4 Convert from milliseconds to seconds\n",
    "From `msPlayed`, create a new column `secPlayed` with the data converted from milliseconds to seconds. Then delete the column `msPlayed`."
   ]
  },
  {
   "cell_type": "code",
   "execution_count": 43,
   "metadata": {},
   "outputs": [
    {
     "data": {
      "text/html": [
       "<div>\n",
       "<style scoped>\n",
       "    .dataframe tbody tr th:only-of-type {\n",
       "        vertical-align: middle;\n",
       "    }\n",
       "\n",
       "    .dataframe tbody tr th {\n",
       "        vertical-align: top;\n",
       "    }\n",
       "\n",
       "    .dataframe thead th {\n",
       "        text-align: right;\n",
       "    }\n",
       "</style>\n",
       "<table border=\"1\" class=\"dataframe\">\n",
       "  <thead>\n",
       "    <tr style=\"text-align: right;\">\n",
       "      <th></th>\n",
       "      <th>endTime</th>\n",
       "      <th>artistName</th>\n",
       "      <th>trackName</th>\n",
       "      <th>secPlayed</th>\n",
       "    </tr>\n",
       "  </thead>\n",
       "  <tbody>\n",
       "    <tr>\n",
       "      <th>71767</th>\n",
       "      <td>2022-12-03 02:02:00</td>\n",
       "      <td>Cigarettes After Sex</td>\n",
       "      <td>Truly</td>\n",
       "      <td>30.0</td>\n",
       "    </tr>\n",
       "    <tr>\n",
       "      <th>71768</th>\n",
       "      <td>2022-12-03 02:02:00</td>\n",
       "      <td>Leonard Cohen</td>\n",
       "      <td>Take This Waltz - Paris Version</td>\n",
       "      <td>8.2</td>\n",
       "    </tr>\n",
       "    <tr>\n",
       "      <th>71770</th>\n",
       "      <td>2022-12-06 21:05:00</td>\n",
       "      <td>Lorde</td>\n",
       "      <td>Team</td>\n",
       "      <td>9.0</td>\n",
       "    </tr>\n",
       "    <tr>\n",
       "      <th>71769</th>\n",
       "      <td>2022-12-06 21:05:00</td>\n",
       "      <td>Vlad Holiday</td>\n",
       "      <td>So Damn Into You</td>\n",
       "      <td>37.9</td>\n",
       "    </tr>\n",
       "    <tr>\n",
       "      <th>71771</th>\n",
       "      <td>2022-12-06 21:05:00</td>\n",
       "      <td>Ariana Grande</td>\n",
       "      <td>Into You</td>\n",
       "      <td>1.2</td>\n",
       "    </tr>\n",
       "  </tbody>\n",
       "</table>\n",
       "</div>"
      ],
      "text/plain": [
       "                  endTime            artistName  \\\n",
       "71767 2022-12-03 02:02:00  Cigarettes After Sex   \n",
       "71768 2022-12-03 02:02:00         Leonard Cohen   \n",
       "71770 2022-12-06 21:05:00                 Lorde   \n",
       "71769 2022-12-06 21:05:00          Vlad Holiday   \n",
       "71771 2022-12-06 21:05:00         Ariana Grande   \n",
       "\n",
       "                             trackName  secPlayed  \n",
       "71767                            Truly       30.0  \n",
       "71768  Take This Waltz - Paris Version        8.2  \n",
       "71770                             Team        9.0  \n",
       "71769                 So Damn Into You       37.9  \n",
       "71771                         Into You        1.2  "
      ]
     },
     "execution_count": 43,
     "metadata": {},
     "output_type": "execute_result"
    }
   ],
   "source": [
    "df[\"secPlayed\"] = round(df[\"msPlayed\"] / 1000, 1)\n",
    "df.drop(columns = \"msPlayed\", inplace=True)\n",
    "df.head()"
   ]
  },
  {
   "cell_type": "markdown",
   "metadata": {},
   "source": [
    "#### 2.5 Finding top 10 favorite artists\n",
    "Find the top `ten` artists with the highest total play time (in seconds). Plot your findings in a bar graph. \\\n",
    "(hint: start by creating a new DataFrame with only `artistName` and your time column. To proceed, you will also likely need the `groupby` command from Pandas.)"
   ]
  },
  {
   "cell_type": "code",
   "execution_count": 44,
   "metadata": {},
   "outputs": [
    {
     "data": {
      "image/png": "[encoded data removed]",
      "text/plain": [
       "<Figure size 640x480 with 1 Axes>"
      ]
     },
     "metadata": {},
     "output_type": "display_data"
    }
   ],
   "source": [
    "df_sec_artist = df.groupby('artistName')['secPlayed'].sum().reset_index()\n",
    "df_sec_artist = df_sec_artist.sort_values(by='secPlayed', ascending=False)\n",
    "\n",
    "sns.barplot(x = 'secPlayed', y = 'artistName', data = df_sec_artist.head(10))\n",
    "\n",
    "plt.xlabel('Artist Name')\n",
    "plt.xticks(rotation=45)\n",
    "plt.ylabel('Seconds Played')\n",
    "plt.tight_layout()\n",
    "plt.show()"
   ]
  },
  {
   "cell_type": "markdown",
   "metadata": {},
   "source": [
    "#### 2.6 Finding top 10 favorite songs\n",
    "Find the top `ten` songs with the highest play time. Create a graph visualizing the results."
   ]
  },
  {
   "cell_type": "code",
   "execution_count": 45,
   "metadata": {},
   "outputs": [
    {
     "data": {
      "image/png": "[encoded data removed]",
      "text/plain": [
       "<Figure size 640x480 with 1 Axes>"
      ]
     },
     "metadata": {},
     "output_type": "display_data"
    }
   ],
   "source": [
    "df_sec_track = df.groupby('trackName')['secPlayed'].sum().reset_index()\n",
    "df_sec_track = df_sec_track.sort_values(by='secPlayed', ascending=False)\n",
    "\n",
    "sns.barplot(x = 'secPlayed', y = 'trackName', data = df_sec_track.head(10))\n",
    "\n",
    "plt.xlabel('Artist Name')\n",
    "plt.xticks(rotation=45)\n",
    "plt.ylabel('Seconds Played')\n",
    "plt.tight_layout()\n",
    "plt.show()\n"
   ]
  },
  {
   "cell_type": "markdown",
   "metadata": {},
   "source": [
    "## Part 3: Further analysis"
   ]
  },
  {
   "cell_type": "markdown",
   "metadata": {},
   "source": [
    "#### 3.0 Average listening time by hour\n",
    "Generate a plot that displays the average amount of time that music is played for each hour of the day."
   ]
  },
  {
   "cell_type": "code",
   "execution_count": 46,
   "metadata": {},
   "outputs": [
    {
     "data": {
      "image/png": "[encoded data removed]",
      "text/plain": [
       "<Figure size 640x480 with 1 Axes>"
      ]
     },
     "metadata": {},
     "output_type": "display_data"
    }
   ],
   "source": [
    "df['hour'] = df['endTime'].dt.hour\n",
    "\n",
    "df_hour = df.groupby('hour', as_index=False)['secPlayed'].mean()\n",
    "\n",
    "sns.barplot(x = 'hour', y = 'secPlayed', data = df_hour)\n",
    "\n",
    "plt.xlabel('Artist Name')\n",
    "plt.xticks(rotation=45)\n",
    "plt.ylabel('Seconds Played')\n",
    "plt.tight_layout()\n",
    "plt.show()"
   ]
  },
  {
   "cell_type": "markdown",
   "metadata": {},
   "source": [
    "#### 3.1 Morning music and evening music\n",
    "I think many people find that some types of music are more suitable for morning listening and some music is more suitable for evening listening. Create a plot that compares the play time of the artists *Leonard Cohen* and *Rage Against the Machine* on an hour-by-hour basis. See if there are any differences."
   ]
  },
  {
   "cell_type": "code",
   "execution_count": 70,
   "metadata": {},
   "outputs": [
    {
     "data": {
      "image/png": "[encoded data removed]",
      "text/plain": [
       "<Figure size 1400x600 with 2 Axes>"
      ]
     },
     "metadata": {},
     "output_type": "display_data"
    }
   ],
   "source": [
    "artist_names = [\"Leonard Cohen\", ]\n",
    "\n",
    "df['hour'] = df['endTime'].dt.hour\n",
    "df_leonard = df[df['artistName'] == \"Leonard Cohen\"]\n",
    "df_machine = df[df['artistName'] == \"Rage Against The Machine\"]\n",
    "\n",
    "df_hour_leonard = df_leonard.groupby('hour', as_index=False)['secPlayed'].mean()\n",
    "df_hour_machine = df_machine.groupby('hour', as_index=False)['secPlayed'].mean()\n",
    "\n",
    "fig, axes = plt.subplots(1, 2, figsize=(14, 6))\n",
    "\n",
    "df_hour_leonard.plot(ax=axes[0], x = 'hour', y = 'secPlayed', kind='line', marker='o')\n",
    "df_hour_machine.plot(ax=axes[1], x = 'hour', y = 'secPlayed', kind='line', marker='o')\n",
    "\n",
    "axes[0].set_title('Leonard Cohen')\n",
    "axes[1].set_title('Rage Against The Machine')\n",
    "\n",
    "axes[0].grid()\n",
    "axes[1].grid()\n",
    "\n",
    "axes[0].set_yticks(np.arange(0, 300, 50))\n",
    "axes[0].set_xticks(np.arange(0, 24, 1))\n",
    "\n",
    "axes[1].set_yticks(np.arange(0, 300, 50))\n",
    "axes[1].set_xticks(np.arange(0, 24, 1))\n",
    "\n",
    "plt.tight_layout()\n",
    "plt.show()"
   ]
  },
  {
   "cell_type": "markdown",
   "metadata": {},
   "source": [
    "#### 3.2 Analysing skipped songs\n",
    "Determining whether a song was skipped or listened to can be challenging. For this analysis, we'll simplify by defining a skipped song as any track played for less than 30 seconds. Conversely, a song played for 30 seconds or more is considered listened to. \\\n",
    " Add a column to your DataFrame to reflect this criteria: set the value to 1 if the song was played for less than 30 seconds (indicating a skipped song), and 0 if it was played for 30 seconds or longer."
   ]
  },
  {
   "cell_type": "code",
   "execution_count": 48,
   "metadata": {},
   "outputs": [
    {
     "data": {
      "text/html": [
       "<div>\n",
       "<style scoped>\n",
       "    .dataframe tbody tr th:only-of-type {\n",
       "        vertical-align: middle;\n",
       "    }\n",
       "\n",
       "    .dataframe tbody tr th {\n",
       "        vertical-align: top;\n",
       "    }\n",
       "\n",
       "    .dataframe thead th {\n",
       "        text-align: right;\n",
       "    }\n",
       "</style>\n",
       "<table border=\"1\" class=\"dataframe\">\n",
       "  <thead>\n",
       "    <tr style=\"text-align: right;\">\n",
       "      <th></th>\n",
       "      <th>endTime</th>\n",
       "      <th>artistName</th>\n",
       "      <th>trackName</th>\n",
       "      <th>secPlayed</th>\n",
       "      <th>hour</th>\n",
       "      <th>skipped</th>\n",
       "    </tr>\n",
       "  </thead>\n",
       "  <tbody>\n",
       "    <tr>\n",
       "      <th>71767</th>\n",
       "      <td>2022-12-03 02:02:00</td>\n",
       "      <td>Cigarettes After Sex</td>\n",
       "      <td>Truly</td>\n",
       "      <td>30.0</td>\n",
       "      <td>2</td>\n",
       "      <td>1</td>\n",
       "    </tr>\n",
       "    <tr>\n",
       "      <th>71768</th>\n",
       "      <td>2022-12-03 02:02:00</td>\n",
       "      <td>Leonard Cohen</td>\n",
       "      <td>Take This Waltz - Paris Version</td>\n",
       "      <td>8.2</td>\n",
       "      <td>2</td>\n",
       "      <td>1</td>\n",
       "    </tr>\n",
       "    <tr>\n",
       "      <th>71770</th>\n",
       "      <td>2022-12-06 21:05:00</td>\n",
       "      <td>Lorde</td>\n",
       "      <td>Team</td>\n",
       "      <td>9.0</td>\n",
       "      <td>21</td>\n",
       "      <td>1</td>\n",
       "    </tr>\n",
       "    <tr>\n",
       "      <th>71769</th>\n",
       "      <td>2022-12-06 21:05:00</td>\n",
       "      <td>Vlad Holiday</td>\n",
       "      <td>So Damn Into You</td>\n",
       "      <td>37.9</td>\n",
       "      <td>21</td>\n",
       "      <td>0</td>\n",
       "    </tr>\n",
       "    <tr>\n",
       "      <th>71771</th>\n",
       "      <td>2022-12-06 21:05:00</td>\n",
       "      <td>Ariana Grande</td>\n",
       "      <td>Into You</td>\n",
       "      <td>1.2</td>\n",
       "      <td>21</td>\n",
       "      <td>1</td>\n",
       "    </tr>\n",
       "  </tbody>\n",
       "</table>\n",
       "</div>"
      ],
      "text/plain": [
       "                  endTime            artistName  \\\n",
       "71767 2022-12-03 02:02:00  Cigarettes After Sex   \n",
       "71768 2022-12-03 02:02:00         Leonard Cohen   \n",
       "71770 2022-12-06 21:05:00                 Lorde   \n",
       "71769 2022-12-06 21:05:00          Vlad Holiday   \n",
       "71771 2022-12-06 21:05:00         Ariana Grande   \n",
       "\n",
       "                             trackName  secPlayed  hour  skipped  \n",
       "71767                            Truly       30.0     2        1  \n",
       "71768  Take This Waltz - Paris Version        8.2     2        1  \n",
       "71770                             Team        9.0    21        1  \n",
       "71769                 So Damn Into You       37.9    21        0  \n",
       "71771                         Into You        1.2    21        1  "
      ]
     },
     "execution_count": 48,
     "metadata": {},
     "output_type": "execute_result"
    }
   ],
   "source": [
    "df[\"skipped\"] = df['secPlayed'] <= 30\n",
    "df['skipped'] = df['skipped'].astype(int)\n",
    "df.head()"
   ]
  },
  {
   "cell_type": "markdown",
   "metadata": {},
   "source": [
    "#### 3.3 Plotting skipped songs\n",
    "Create a pie-chart that compares amount of skipped songs to amount of non-skipped songs."
   ]
  },
  {
   "cell_type": "code",
   "execution_count": 73,
   "metadata": {},
   "outputs": [
    {
     "data": {
      "image/png": "[encoded data removed]",
      "text/plain": [
       "<Figure size 640x480 with 1 Axes>"
      ]
     },
     "metadata": {},
     "output_type": "display_data"
    }
   ],
   "source": [
    "counts = df['skipped'].value_counts()\n",
    "plt.pie(counts, labels=['Skipped', 'Not Skipped'], autopct='%1.1f%%')\n",
    "plt.title(\"Skipped vs. Not Skipped\")\n",
    "plt.show()\n"
   ]
  },
  {
   "cell_type": "markdown",
   "metadata": {},
   "source": [
    "#### 3.4 Artists by percentage of songs skipped\n",
    "For each artist in the dataset, calculate which percentage of their songs was skipped. Store this information in a new DataFrame called `df_skipped`. Store the percentage of skipped songs in a new column named `SkipRate`\\\n",
    "\\\n",
    "**Example**: If an artist has **100** songs in your dataset and **25** of these were skipped, the percentage of skipped songs for this artist would be $\\frac{25}{100}=25\\%$"
   ]
  },
  {
   "cell_type": "code",
   "execution_count": 50,
   "metadata": {},
   "outputs": [
    {
     "data": {
      "text/html": [
       "<div>\n",
       "<style scoped>\n",
       "    .dataframe tbody tr th:only-of-type {\n",
       "        vertical-align: middle;\n",
       "    }\n",
       "\n",
       "    .dataframe tbody tr th {\n",
       "        vertical-align: top;\n",
       "    }\n",
       "\n",
       "    .dataframe thead th {\n",
       "        text-align: right;\n",
       "    }\n",
       "</style>\n",
       "<table border=\"1\" class=\"dataframe\">\n",
       "  <thead>\n",
       "    <tr style=\"text-align: right;\">\n",
       "      <th></th>\n",
       "      <th>artistName</th>\n",
       "      <th>SkipRate</th>\n",
       "    </tr>\n",
       "  </thead>\n",
       "  <tbody>\n",
       "    <tr>\n",
       "      <th>0</th>\n",
       "      <td>10cc</td>\n",
       "      <td>0.655172</td>\n",
       "    </tr>\n",
       "    <tr>\n",
       "      <th>1</th>\n",
       "      <td>1930</td>\n",
       "      <td>0.500000</td>\n",
       "    </tr>\n",
       "    <tr>\n",
       "      <th>2</th>\n",
       "      <td>2Pac</td>\n",
       "      <td>0.862403</td>\n",
       "    </tr>\n",
       "    <tr>\n",
       "      <th>3</th>\n",
       "      <td>3 Doors Down</td>\n",
       "      <td>0.500000</td>\n",
       "    </tr>\n",
       "    <tr>\n",
       "      <th>4</th>\n",
       "      <td>4 Non Blondes</td>\n",
       "      <td>0.723881</td>\n",
       "    </tr>\n",
       "  </tbody>\n",
       "</table>\n",
       "</div>"
      ],
      "text/plain": [
       "      artistName  SkipRate\n",
       "0           10cc  0.655172\n",
       "1           1930  0.500000\n",
       "2           2Pac  0.862403\n",
       "3   3 Doors Down  0.500000\n",
       "4  4 Non Blondes  0.723881"
      ]
     },
     "execution_count": 50,
     "metadata": {},
     "output_type": "execute_result"
    }
   ],
   "source": [
    "df_skipped = df.groupby('artistName', as_index=False).agg(\n",
    "    SkipRate=('skipped', lambda x: x.sum() / x.count())\n",
    ")\n",
    "\n",
    "df_skipped.head()\n"
   ]
  },
  {
   "cell_type": "markdown",
   "metadata": {},
   "source": [
    "#### 3.5 Comparing artists by skip-rate \n",
    "Find the `three` top artists with the lowest skip-rate and the `three` with the highest. Print their names, along with their skip-rate."
   ]
  },
  {
   "cell_type": "code",
   "execution_count": 51,
   "metadata": {},
   "outputs": [
    {
     "data": {
      "text/html": [
       "<div>\n",
       "<style scoped>\n",
       "    .dataframe tbody tr th:only-of-type {\n",
       "        vertical-align: middle;\n",
       "    }\n",
       "\n",
       "    .dataframe tbody tr th {\n",
       "        vertical-align: top;\n",
       "    }\n",
       "\n",
       "    .dataframe thead th {\n",
       "        text-align: right;\n",
       "    }\n",
       "</style>\n",
       "<table border=\"1\" class=\"dataframe\">\n",
       "  <thead>\n",
       "    <tr style=\"text-align: right;\">\n",
       "      <th></th>\n",
       "      <th>artistName</th>\n",
       "      <th>SkipRate</th>\n",
       "    </tr>\n",
       "  </thead>\n",
       "  <tbody>\n",
       "    <tr>\n",
       "      <th>648</th>\n",
       "      <td>Roc Boyz</td>\n",
       "      <td>0.111111</td>\n",
       "    </tr>\n",
       "    <tr>\n",
       "      <th>440</th>\n",
       "      <td>LACES</td>\n",
       "      <td>0.133333</td>\n",
       "    </tr>\n",
       "    <tr>\n",
       "      <th>72</th>\n",
       "      <td>Basstrologe</td>\n",
       "      <td>0.200000</td>\n",
       "    </tr>\n",
       "  </tbody>\n",
       "</table>\n",
       "</div>"
      ],
      "text/plain": [
       "      artistName  SkipRate\n",
       "648     Roc Boyz  0.111111\n",
       "440        LACES  0.133333\n",
       "72   Basstrologe  0.200000"
      ]
     },
     "execution_count": 51,
     "metadata": {},
     "output_type": "execute_result"
    }
   ],
   "source": [
    "df_skipped = df_skipped.sort_values(by='SkipRate')\n",
    "\n",
    "df_skipped.head(3)"
   ]
  },
  {
   "cell_type": "code",
   "execution_count": 52,
   "metadata": {},
   "outputs": [
    {
     "data": {
      "text/html": [
       "<div>\n",
       "<style scoped>\n",
       "    .dataframe tbody tr th:only-of-type {\n",
       "        vertical-align: middle;\n",
       "    }\n",
       "\n",
       "    .dataframe tbody tr th {\n",
       "        vertical-align: top;\n",
       "    }\n",
       "\n",
       "    .dataframe thead th {\n",
       "        text-align: right;\n",
       "    }\n",
       "</style>\n",
       "<table border=\"1\" class=\"dataframe\">\n",
       "  <thead>\n",
       "    <tr style=\"text-align: right;\">\n",
       "      <th></th>\n",
       "      <th>artistName</th>\n",
       "      <th>SkipRate</th>\n",
       "    </tr>\n",
       "  </thead>\n",
       "  <tbody>\n",
       "    <tr>\n",
       "      <th>218</th>\n",
       "      <td>Dire Straits</td>\n",
       "      <td>1.0</td>\n",
       "    </tr>\n",
       "    <tr>\n",
       "      <th>169</th>\n",
       "      <td>Cocteau Twins</td>\n",
       "      <td>1.0</td>\n",
       "    </tr>\n",
       "    <tr>\n",
       "      <th>868</th>\n",
       "      <td>WILLOW</td>\n",
       "      <td>1.0</td>\n",
       "    </tr>\n",
       "  </tbody>\n",
       "</table>\n",
       "</div>"
      ],
      "text/plain": [
       "        artistName  SkipRate\n",
       "218   Dire Straits       1.0\n",
       "169  Cocteau Twins       1.0\n",
       "868         WILLOW       1.0"
      ]
     },
     "execution_count": 52,
     "metadata": {},
     "output_type": "execute_result"
    }
   ],
   "source": [
    "df_skipped.tail(3)"
   ]
  },
  {
   "cell_type": "markdown",
   "metadata": {},
   "source": [
    "## Part 4: God Is a Data Scientist - The Ariana Deep-Dive"
   ]
  },
  {
   "cell_type": "markdown",
   "metadata": {},
   "source": [
    "#### 4.0 Ariana-DataFrame: \n",
    "Create a new DataFrame called *df_ariana*, containing only rows with music by Ariana Grande."
   ]
  },
  {
   "cell_type": "code",
   "execution_count": 53,
   "metadata": {},
   "outputs": [
    {
     "data": {
      "text/html": [
       "<div>\n",
       "<style scoped>\n",
       "    .dataframe tbody tr th:only-of-type {\n",
       "        vertical-align: middle;\n",
       "    }\n",
       "\n",
       "    .dataframe tbody tr th {\n",
       "        vertical-align: top;\n",
       "    }\n",
       "\n",
       "    .dataframe thead th {\n",
       "        text-align: right;\n",
       "    }\n",
       "</style>\n",
       "<table border=\"1\" class=\"dataframe\">\n",
       "  <thead>\n",
       "    <tr style=\"text-align: right;\">\n",
       "      <th></th>\n",
       "      <th>endTime</th>\n",
       "      <th>artistName</th>\n",
       "      <th>trackName</th>\n",
       "      <th>secPlayed</th>\n",
       "      <th>hour</th>\n",
       "      <th>skipped</th>\n",
       "    </tr>\n",
       "  </thead>\n",
       "  <tbody>\n",
       "    <tr>\n",
       "      <th>71771</th>\n",
       "      <td>2022-12-06 21:05:00</td>\n",
       "      <td>Ariana Grande</td>\n",
       "      <td>Into You</td>\n",
       "      <td>1.2</td>\n",
       "      <td>21</td>\n",
       "      <td>1</td>\n",
       "    </tr>\n",
       "    <tr>\n",
       "      <th>71776</th>\n",
       "      <td>2022-12-07 00:21:00</td>\n",
       "      <td>Ariana Grande</td>\n",
       "      <td>Best Mistake</td>\n",
       "      <td>8.8</td>\n",
       "      <td>0</td>\n",
       "      <td>1</td>\n",
       "    </tr>\n",
       "    <tr>\n",
       "      <th>71782</th>\n",
       "      <td>2022-12-07 00:25:00</td>\n",
       "      <td>Ariana Grande</td>\n",
       "      <td>Just A Little Bit Of Your Heart</td>\n",
       "      <td>0.6</td>\n",
       "      <td>0</td>\n",
       "      <td>1</td>\n",
       "    </tr>\n",
       "    <tr>\n",
       "      <th>71784</th>\n",
       "      <td>2022-12-07 00:25:00</td>\n",
       "      <td>Ariana Grande</td>\n",
       "      <td>safety net (feat. Ty Dolla $ign)</td>\n",
       "      <td>17.8</td>\n",
       "      <td>0</td>\n",
       "      <td>1</td>\n",
       "    </tr>\n",
       "    <tr>\n",
       "      <th>71793</th>\n",
       "      <td>2022-12-07 00:26:00</td>\n",
       "      <td>Ariana Grande</td>\n",
       "      <td>shut up</td>\n",
       "      <td>15.3</td>\n",
       "      <td>0</td>\n",
       "      <td>1</td>\n",
       "    </tr>\n",
       "  </tbody>\n",
       "</table>\n",
       "</div>"
      ],
      "text/plain": [
       "                  endTime     artistName                         trackName  \\\n",
       "71771 2022-12-06 21:05:00  Ariana Grande                          Into You   \n",
       "71776 2022-12-07 00:21:00  Ariana Grande                      Best Mistake   \n",
       "71782 2022-12-07 00:25:00  Ariana Grande   Just A Little Bit Of Your Heart   \n",
       "71784 2022-12-07 00:25:00  Ariana Grande  safety net (feat. Ty Dolla $ign)   \n",
       "71793 2022-12-07 00:26:00  Ariana Grande                           shut up   \n",
       "\n",
       "       secPlayed  hour  skipped  \n",
       "71771        1.2    21        1  \n",
       "71776        8.8     0        1  \n",
       "71782        0.6     0        1  \n",
       "71784       17.8     0        1  \n",
       "71793       15.3     0        1  "
      ]
     },
     "execution_count": 53,
     "metadata": {},
     "output_type": "execute_result"
    }
   ],
   "source": [
    "df_ariana = df[df['artistName'] == 'Ariana Grande']\n",
    "df_ariana.head()"
   ]
  },
  {
   "cell_type": "markdown",
   "metadata": {},
   "source": [
    "#### 4.1 Average skip rate\n",
    "Create a histogram of the distribution of the skip-rate values of the different artists in your DataFrame  `df_skipped`, with skip rates on one axis and number of artists on the other. \\\n",
    "\\\n",
    "Then, retrieve the skip rate for Ariana Grande from your DataFrame `df_skipped`. Run the code in the cell below. Where on this distribution does Ariana Grande fall? Do I skip her songs more than average, or less?"
   ]
  },
  {
   "cell_type": "code",
   "execution_count": 74,
   "metadata": {},
   "outputs": [
    {
     "data": {
      "image/png": "[encoded data removed]",
      "text/plain": [
       "<Figure size 1000x600 with 1 Axes>"
      ]
     },
     "metadata": {},
     "output_type": "display_data"
    }
   ],
   "source": [
    "plt.figure(figsize=(10,6))\n",
    "sns.histplot(df_skipped['SkipRate'], bins=20)\n",
    "\n",
    "ariana_skip_rate = df_skipped[df_skipped['artistName'] == 'Ariana Grande']['SkipRate'].values[0]\n",
    "\n",
    "plt.axvline(ariana_skip_rate, color='red', linestyle='dashed', linewidth=2, label=\"Ariana Grande\")\n",
    "\n",
    "plt.xlabel(\"Skip Rate\")\n",
    "plt.ylabel(\"Number of Artists\")\n",
    "plt.legend()\n",
    "plt.show()"
   ]
  },
  {
   "cell_type": "code",
   "execution_count": 55,
   "metadata": {},
   "outputs": [
    {
     "name": "stdout",
     "output_type": "stream",
     "text": [
      "Ariana Grande's: 0.9952\n",
      "Average skip rate: 0.7234\n"
     ]
    }
   ],
   "source": [
    "average_skip_rate = df_skipped['SkipRate'].mean()\n",
    "ariana_skip_rate = df_skipped[df_skipped['artistName'] == \"Ariana Grande\"]['SkipRate'].values[0]\n",
    "\n",
    "print(f\"Ariana Grande's: {ariana_skip_rate:.4f}\")\n",
    "print(f\"Average skip rate: {average_skip_rate:.4f}\")"
   ]
  },
  {
   "cell_type": "markdown",
   "metadata": {},
   "source": [
    "### Part 4: Questions\n",
    "Q1: Did I skip a lot of Ariana Grande's songs, or did I not, compared to the rest of the dataset? \\\n",
    "\n",
    "You almost always skipped Ariana Grande, which a rate of 99,5% but an average of 72,3%.\n",
    "\n",
    "Q2: What might be some possible reasons for Ariana Grande to be my nr.1 artist?\n",
    "\n",
    "1. Even through you skip her songs a lot, you can still listen to her up to 29 seconds and it will still be marked as skipped. This will generate a lot of seconds, but still maintain a high skip rate.*\n",
    "2. She's a great artist"
   ]
  },
  {
   "cell_type": "markdown",
   "metadata": {},
   "source": []
  }
 ],
 "metadata": {
  "kernelspec": {
   "display_name": "Python (myenv)",
   "language": "python",
   "name": "myenv"
  },
  "language_info": {
   "codemirror_mode": {
    "name": "ipython",
    "version": 3
   },
   "file_extension": ".py",
   "mimetype": "text/x-python",
   "name": "python",
   "nbconvert_exporter": "python",
   "pygments_lexer": "ipython3",
   "version": "3.8.18"
  }
 },
 "nbformat": 4,
 "nbformat_minor": 2
}
